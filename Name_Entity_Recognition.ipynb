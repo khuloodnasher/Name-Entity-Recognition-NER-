{
  "nbformat": 4,
  "nbformat_minor": 0,
  "metadata": {
    "colab": {
      "name": "Name Entity Recognition.ipynb",
      "provenance": [],
      "collapsed_sections": [],
      "authorship_tag": "ABX9TyPJOirLNRZUBSl1pR/u9oXd",
      "include_colab_link": true
    },
    "kernelspec": {
      "name": "python3",
      "display_name": "Python 3"
    }
  },
  "cells": [
    {
      "cell_type": "markdown",
      "metadata": {
        "id": "view-in-github",
        "colab_type": "text"
      },
      "source": [
        "<a href=\"https://colab.research.google.com/github/khuloodnasher/Name-Entity-Recognition-NER-/blob/main/Name_Entity_Recognition.ipynb\" target=\"_parent\"><img src=\"https://colab.research.google.com/assets/colab-badge.svg\" alt=\"Open In Colab\"/></a>"
      ]
    },
    {
      "cell_type": "code",
      "metadata": {
        "colab": {
          "base_uri": "https://localhost:8080/"
        },
        "id": "cgGujwG0oUhe",
        "outputId": "615f8b06-44b9-4bc6-e7b1-e5ad5f06d8a2"
      },
      "source": [
        "# create nlp object\n",
        "import spacy\n",
        "nlp=spacy.load(\"en_core_web_sm\")\n",
        "nlp"
      ],
      "execution_count": 2,
      "outputs": [
        {
          "output_type": "execute_result",
          "data": {
            "text/plain": [
              "<spacy.lang.en.English at 0x7f1ebe07ca20>"
            ]
          },
          "metadata": {
            "tags": []
          },
          "execution_count": 2
        }
      ]
    },
    {
      "cell_type": "markdown",
      "metadata": {
        "id": "YLvxfsFEu-KF"
      },
      "source": [
        "Tokenization"
      ]
    },
    {
      "cell_type": "code",
      "metadata": {
        "colab": {
          "base_uri": "https://localhost:8080/"
        },
        "id": "-gK4xojzCFaI",
        "outputId": "d58568ab-e82a-4d3e-f8b0-edbf3c38497d"
      },
      "source": [
        "# collect the tokens\n",
        "my_text=nlp(u\"\"\" My name is Khulood Nasher.I'm living in Los Angeles, California.I'm working at Amazon since November 9th,2020.\n",
        " Amazon office is 5 miles from house.\n",
        " I'm working 8 hours a day, 40 hours a week in 5 days, Monday-Friday.\n",
        "I finished master degree from Idaho State University(ISU),Idaho.\n",
        "My annual salary is $78,230. I'm an Arabic native speaker and an English professional.I have 6 siblings. I'm the second between them.  \"\"\")\n",
        "\n",
        "for token in my_text:\n",
        "    print(token.text, end=' || ')\n"
      ],
      "execution_count": 100,
      "outputs": [
        {
          "output_type": "stream",
          "text": [
            "  || My || name || is || Khulood || Nasher || . || I'm || living || in || Los || Angeles || , || California || . || I'm || working || at || Amazon || since || November || 9th,2020 || . || \n",
            "  || Amazon || office || is || 5 || miles || from || house || . || \n",
            "  || I || 'm || working || 8 || hours || a || day || , || 40 || hours || a || week || in || 5 || days || , || Monday || - || Friday || . || \n",
            " || I || finished || master || degree || from || Idaho || State || University(ISU),Idaho || . || \n",
            " || My || annual || salary || is || $ || 78,230 || . || I || 'm || an || Arabic || native || speaker || and || an || English || professional || . || I || have || 6 || siblings || . || I || 'm || the || second || between || them || . ||   || "
          ],
          "name": "stdout"
        }
      ]
    },
    {
      "cell_type": "markdown",
      "metadata": {
        "id": "kAhHC71qvFVv"
      },
      "source": [
        "# Entity Extraction"
      ]
    },
    {
      "cell_type": "code",
      "metadata": {
        "colab": {
          "base_uri": "https://localhost:8080/"
        },
        "id": "i6lXa116u53n",
        "outputId": "54394775-4b44-4892-8a0c-d4323b5a33d5"
      },
      "source": [
        "# create the text as nlp object\n",
        "my_text=nlp(u\"\"\" My name is Khulood Nasher.I'm living in Los Angeles, California.I'm working at Amazon since November 9th,2020.\n",
        " Amazon office is 5 miles from house.\n",
        " I'm working 8 hours a day, 40 hours a week in 5 days, Monday-Friday.\n",
        "I finished master degree from Idaho State University(ISU),Idaho.\n",
        "My annual salary is $78,230. I'm an Arabic native speaker and an English professional.I have 6 siblings. I'm the second between them.  \"\"\")\n",
        "\n",
        "\n",
        "# extract name entity\n",
        "for enti in my_text.ents:\n",
        "  print(enti.text,enti.label_)"
      ],
      "execution_count": 101,
      "outputs": [
        {
          "output_type": "stream",
          "text": [
            "Khulood Nasher PERSON\n",
            "Los Angeles GPE\n",
            "California GPE\n",
            "Amazon ORG\n",
            "November 9th,2020 DATE\n",
            "Amazon ORG\n",
            "5 miles QUANTITY\n",
            "8 hours TIME\n",
            "40 hours TIME\n",
            "5 days DATE\n",
            "Monday-Friday DATE\n",
            "Idaho State University(ISU),Idaho ORG\n",
            "78,230 MONEY\n",
            "Arabic NORP\n",
            "English LANGUAGE\n",
            "6 CARDINAL\n",
            "second ORDINAL\n"
          ],
          "name": "stdout"
        }
      ]
    },
    {
      "cell_type": "markdown",
      "metadata": {
        "id": "aWpm1qH79FuW"
      },
      "source": [
        "# Entity Attributes"
      ]
    },
    {
      "cell_type": "code",
      "metadata": {
        "colab": {
          "base_uri": "https://localhost:8080/"
        },
        "id": "nxCs8Elr3YBj",
        "outputId": "81cc2120-aafd-43b6-e20e-61ba2b8d800a"
      },
      "source": [
        "my_text=nlp(u\"\"\"My name is Khulood Nasher.I'm living in Los Angeles, California.\n",
        "I'm working at Amazon since November 9th,2020.\n",
        " Amazon office is 5 miles from house.\n",
        " I'm working 8 hours a day, 40 hours a week in 5 days, Monday-Friday.\n",
        "I finished master degree from Idaho State University(ISU),Pocatello, Idaho.My annual salary is $78,230. \n",
        "I'm an Arabic native speaker and an English professional.I have 6 siblings. I'm the second between them.  \"\"\")\n",
        "for ent in my_text.ents:\n",
        "    print(ent.text)\n",
        "    print(ent.label_)\n",
        "    print(ent.start)\n",
        "    print(ent.end)\n",
        "    print(ent.start_char)\n",
        "    print(ent.end_char)\n",
        "    print('----------------------------------------------')"
      ],
      "execution_count": 97,
      "outputs": [
        {
          "output_type": "stream",
          "text": [
            "Khulood Nasher\n",
            "PERSON\n",
            "3\n",
            "5\n",
            "11\n",
            "25\n",
            "----------------------------------------------\n",
            "Los Angeles\n",
            "GPE\n",
            "9\n",
            "11\n",
            "40\n",
            "51\n",
            "----------------------------------------------\n",
            "California\n",
            "GPE\n",
            "12\n",
            "13\n",
            "53\n",
            "63\n",
            "----------------------------------------------\n",
            "Amazon\n",
            "ORG\n",
            "19\n",
            "20\n",
            "80\n",
            "86\n",
            "----------------------------------------------\n",
            "November 9th,2020\n",
            "DATE\n",
            "21\n",
            "23\n",
            "93\n",
            "110\n",
            "----------------------------------------------\n",
            "Amazon\n",
            "ORG\n",
            "25\n",
            "26\n",
            "113\n",
            "119\n",
            "----------------------------------------------\n",
            "5 miles\n",
            "QUANTITY\n",
            "28\n",
            "30\n",
            "130\n",
            "137\n",
            "----------------------------------------------\n",
            "8 hours\n",
            "TIME\n",
            "37\n",
            "39\n",
            "163\n",
            "170\n",
            "----------------------------------------------\n",
            "40 hours\n",
            "TIME\n",
            "42\n",
            "44\n",
            "178\n",
            "186\n",
            "----------------------------------------------\n",
            "5 days\n",
            "DATE\n",
            "47\n",
            "49\n",
            "197\n",
            "203\n",
            "----------------------------------------------\n",
            "Monday-Friday\n",
            "DATE\n",
            "50\n",
            "53\n",
            "205\n",
            "218\n",
            "----------------------------------------------\n",
            "Idaho State University(ISU),Pocatello\n",
            "ORG\n",
            "60\n",
            "63\n",
            "250\n",
            "287\n",
            "----------------------------------------------\n",
            "Idaho\n",
            "GPE\n",
            "64\n",
            "65\n",
            "289\n",
            "294\n",
            "----------------------------------------------\n",
            "annual\n",
            "DATE\n",
            "67\n",
            "68\n",
            "298\n",
            "304\n",
            "----------------------------------------------\n",
            "78,230\n",
            "MONEY\n",
            "71\n",
            "72\n",
            "316\n",
            "322\n",
            "----------------------------------------------\n",
            "Arabic\n",
            "NORP\n",
            "77\n",
            "78\n",
            "332\n",
            "338\n",
            "----------------------------------------------\n",
            "English\n",
            "LANGUAGE\n",
            "82\n",
            "83\n",
            "361\n",
            "368\n",
            "----------------------------------------------\n",
            "6\n",
            "CARDINAL\n",
            "87\n",
            "88\n",
            "389\n",
            "390\n",
            "----------------------------------------------\n",
            "second\n",
            "ORDINAL\n",
            "93\n",
            "94\n",
            "409\n",
            "415\n",
            "----------------------------------------------\n"
          ],
          "name": "stdout"
        }
      ]
    },
    {
      "cell_type": "markdown",
      "metadata": {
        "id": "XjJoxK_9zCUv"
      },
      "source": [
        "# Explaining Entity Tags"
      ]
    },
    {
      "cell_type": "code",
      "metadata": {
        "id": "gSTjNlPRBLIh",
        "colab": {
          "base_uri": "https://localhost:8080/"
        },
        "outputId": "ffc55064-5968-4006-ec05-ac03add28024"
      },
      "source": [
        "my_text=nlp(u\"\"\" My name is Khulood Nasher.I'm living in Los Angeles, California.\n",
        "I'm working at Amazon since November 9th,2020.\n",
        " Amazon office is 5 miles from house.\n",
        " I'm working 8 hours a day, 40 hours a week in 5 days, Monday-Friday.\n",
        "I finished master degree from Idaho State University(ISU),Pocatello, Idaho.My annual salary is $78,230. \n",
        "I'm an Arabic native speaker and an English professional.I have 6 siblings. I'm the second between them.  \"\"\")\n",
        "for entit in my_text.ents:\n",
        "    print(entit.text , ' : ' ,  entit.label_ , ' : ' , str(spacy.explain(entit.label_)))"
      ],
      "execution_count": 75,
      "outputs": [
        {
          "output_type": "stream",
          "text": [
            "Khulood Nasher  :  PERSON  :  People, including fictional\n",
            "Los Angeles  :  GPE  :  Countries, cities, states\n",
            "California  :  GPE  :  Countries, cities, states\n",
            "Amazon  :  ORG  :  Companies, agencies, institutions, etc.\n",
            "November 9th,2020  :  DATE  :  Absolute or relative dates or periods\n",
            "Amazon  :  ORG  :  Companies, agencies, institutions, etc.\n",
            "5 miles  :  QUANTITY  :  Measurements, as of weight or distance\n",
            "8 hours  :  TIME  :  Times smaller than a day\n",
            "40 hours  :  TIME  :  Times smaller than a day\n",
            "5 days  :  DATE  :  Absolute or relative dates or periods\n",
            "Monday-Friday  :  DATE  :  Absolute or relative dates or periods\n",
            "Idaho State University(ISU),Pocatello  :  ORG  :  Companies, agencies, institutions, etc.\n",
            "Idaho  :  GPE  :  Countries, cities, states\n",
            "annual  :  DATE  :  Absolute or relative dates or periods\n",
            "78,230  :  MONEY  :  Monetary values, including unit\n",
            "Arabic  :  NORP  :  Nationalities or religious or political groups\n",
            "English  :  LANGUAGE  :  Any named language\n",
            "6  :  CARDINAL  :  Numerals that do not fall under another type\n",
            "second  :  ORDINAL  :  \"first\", \"second\", etc.\n"
          ],
          "name": "stdout"
        }
      ]
    },
    {
      "cell_type": "markdown",
      "metadata": {
        "id": "rqb5NSJNzPkR"
      },
      "source": [
        "# Counting the Number of Specific Entity "
      ]
    },
    {
      "cell_type": "code",
      "metadata": {
        "colab": {
          "base_uri": "https://localhost:8080/"
        },
        "id": "3I6LmGKOzbTI",
        "outputId": "888dc994-34eb-46ab-fa82-e83818b72813"
      },
      "source": [
        "my_text=nlp(u\"\"\" My name is Khulood Nasher.I'm living in Los Angeles, California.\n",
        "I'm working at Amazon since November 9th,2020.\n",
        " Amazon office is 5 miles from house.\n",
        " I'm working 8 hours a day, 40 hours a week in 5 days, Monday-Friday.\n",
        "I finished master degree from Idaho State University(ISU),Pocatello, Idaho.My annual salary is $78,230. \n",
        "I'm an Arabic native speaker and an English professional.I have 6 siblings. I'm the second between them.  \"\"\")\n",
        "count_org=len([entit for entit in my_text.ents if entit.label_=='ORG'])\n",
        "\n",
        "count_org"
      ],
      "execution_count": 11,
      "outputs": [
        {
          "output_type": "execute_result",
          "data": {
            "text/plain": [
              "3"
            ]
          },
          "metadata": {
            "tags": []
          },
          "execution_count": 11
        }
      ]
    },
    {
      "cell_type": "markdown",
      "metadata": {
        "id": "Iyz8d6gqUX38"
      },
      "source": [
        "# Extracting Named Entity through a Function"
      ]
    },
    {
      "cell_type": "code",
      "metadata": {
        "id": "XGegwK37Ft-E"
      },
      "source": [
        "# extracting named entity through a function\n",
        "def display_entit(corpus):\n",
        "    if corpus.ents:\n",
        "        for ent in corpus.ents:\n",
        "            print(ent.text+' - '+ent.label_+' - '+str(spacy.explain(ent.label_)))\n",
        "            print('-----------------------------')\n",
        "    else:\n",
        "        print('No named entities found.')        "
      ],
      "execution_count": 3,
      "outputs": []
    },
    {
      "cell_type": "code",
      "metadata": {
        "colab": {
          "base_uri": "https://localhost:8080/"
        },
        "id": "501tmqR3GoaC",
        "outputId": "c3a4552a-024b-4fd7-f300-c6d133074a20"
      },
      "source": [
        "display_entit(nlp(\"May I borrow Harry Poter book in May?\"))"
      ],
      "execution_count": 5,
      "outputs": [
        {
          "output_type": "stream",
          "text": [
            "Harry Poter - PERSON - People, including fictional\n",
            "-----------------------------\n",
            "May - DATE - Absolute or relative dates or periods\n",
            "-----------------------------\n"
          ],
          "name": "stdout"
        }
      ]
    },
    {
      "cell_type": "code",
      "metadata": {
        "colab": {
          "base_uri": "https://localhost:8080/"
        },
        "id": "xVhLd5VwbnPD",
        "outputId": "f9fbe02b-c785-48ea-9f78-bf7331878340"
      },
      "source": [
        "display_entit(nlp(\"How are you doing?\"))"
      ],
      "execution_count": 6,
      "outputs": [
        {
          "output_type": "stream",
          "text": [
            "No named entities found.\n"
          ],
          "name": "stdout"
        }
      ]
    },
    {
      "cell_type": "code",
      "metadata": {
        "id": "O14z-F9BMVab"
      },
      "source": [
        ""
      ],
      "execution_count": null,
      "outputs": []
    }
  ]
}
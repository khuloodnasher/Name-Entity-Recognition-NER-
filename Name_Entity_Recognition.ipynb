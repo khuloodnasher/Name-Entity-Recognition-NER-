{
  "nbformat": 4,
  "nbformat_minor": 0,
  "metadata": {
    "colab": {
      "name": "Name Entity Recognition.ipynb",
      "provenance": [],
      "collapsed_sections": [],
      "authorship_tag": "ABX9TyNI/YbzDj7Shv1j9UqbG5+m",
      "include_colab_link": true
    },
    "kernelspec": {
      "name": "python3",
      "display_name": "Python 3"
    }
  },
  "cells": [
    {
      "cell_type": "markdown",
      "metadata": {
        "id": "view-in-github",
        "colab_type": "text"
      },
      "source": [
        "<a href=\"https://colab.research.google.com/github/khuloodnasher/Name-Entity-Recognition-NER-/blob/main/Name_Entity_Recognition.ipynb\" target=\"_parent\"><img src=\"https://colab.research.google.com/assets/colab-badge.svg\" alt=\"Open In Colab\"/></a>"
      ]
    },
    {
      "cell_type": "code",
      "metadata": {
        "colab": {
          "base_uri": "https://localhost:8080/"
        },
        "id": "cgGujwG0oUhe",
        "outputId": "b8e9d488-26a0-4092-f7cf-05be4968129d"
      },
      "source": [
        "# create nlp object\n",
        "import spacy\n",
        "nlp=spacy.load(\"en_core_web_sm\")\n",
        "nlp"
      ],
      "execution_count": 18,
      "outputs": [
        {
          "output_type": "execute_result",
          "data": {
            "text/plain": [
              "<spacy.lang.en.English at 0x7f7053bc9550>"
            ]
          },
          "metadata": {
            "tags": []
          },
          "execution_count": 18
        }
      ]
    },
    {
      "cell_type": "code",
      "metadata": {
        "colab": {
          "base_uri": "https://localhost:8080/"
        },
        "id": "1FhMIw0qNZEU",
        "outputId": "f3265d3f-1e49-4be5-d789-6c00198ae7d2"
      },
      "source": [
        "# create the text as nlp object\n",
        "my_text=nlp(\"My name is Khulood Nasher.I'm living in Los Angeles, California.I'm working at Amazon as a NLP specialist\")\n",
        "my_text"
      ],
      "execution_count": 11,
      "outputs": [
        {
          "output_type": "execute_result",
          "data": {
            "text/plain": [
              "My name is Khulood Nasher.I'm living in Los Angeles, California.I'm working at Amazon as a NLP specialist"
            ]
          },
          "metadata": {
            "tags": []
          },
          "execution_count": 11
        }
      ]
    },
    {
      "cell_type": "code",
      "metadata": {
        "colab": {
          "base_uri": "https://localhost:8080/"
        },
        "id": "c3aSC1HyOMzQ",
        "outputId": "5fb2d735-9a36-4f57-907a-707e52b2a373"
      },
      "source": [
        "# create the text as nlp object\n",
        "my_text=nlp(\"My name is Khulood Nasher.I'm living in Los Angeles, California.I'm working at Amazon as a NLP specialist since December 5,2020\")\n",
        "\n",
        "# extract name entity\n",
        "for enti in my_text.ents:\n",
        "  print(enti.text,enti.label_)"
      ],
      "execution_count": 22,
      "outputs": [
        {
          "output_type": "stream",
          "text": [
            "Khulood Nasher PERSON\n",
            "Los Angeles GPE\n",
            "California GPE\n",
            "Amazon ORG\n",
            "NLP ORG\n",
            "December 5,2020 DATE\n"
          ],
          "name": "stdout"
        }
      ]
    },
    {
      "cell_type": "code",
      "metadata": {
        "id": "-gK4xojzCFaI"
      },
      "source": [
        ""
      ],
      "execution_count": null,
      "outputs": []
    }
  ]
}
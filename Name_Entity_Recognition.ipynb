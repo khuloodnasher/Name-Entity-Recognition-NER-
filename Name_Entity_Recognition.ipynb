{
  "nbformat": 4,
  "nbformat_minor": 0,
  "metadata": {
    "colab": {
      "name": "Name Entity Recognition.ipynb",
      "provenance": [],
      "collapsed_sections": [],
      "authorship_tag": "ABX9TyMw80LRgOQkguROCLoVX1f+",
      "include_colab_link": true
    },
    "kernelspec": {
      "name": "python3",
      "display_name": "Python 3"
    }
  },
  "cells": [
    {
      "cell_type": "markdown",
      "metadata": {
        "id": "view-in-github",
        "colab_type": "text"
      },
      "source": [
        "<a href=\"https://colab.research.google.com/github/khuloodnasher/Name-Entity-Recognition-NER-/blob/main/Name_Entity_Recognition.ipynb\" target=\"_parent\"><img src=\"https://colab.research.google.com/assets/colab-badge.svg\" alt=\"Open In Colab\"/></a>"
      ]
    },
    {
      "cell_type": "code",
      "metadata": {
        "colab": {
          "base_uri": "https://localhost:8080/"
        },
        "id": "cgGujwG0oUhe",
        "outputId": "ba0c8b2d-75f0-4ef1-fadf-c1b6b13b0318"
      },
      "source": [
        "# create nlp object\n",
        "import spacy\n",
        "nlp=spacy.load(\"en_core_web_sm\")\n",
        "nlp"
      ],
      "execution_count": null,
      "outputs": [
        {
          "output_type": "execute_result",
          "data": {
            "text/plain": [
              "<spacy.lang.en.English at 0x7f6f125c77f0>"
            ]
          },
          "metadata": {
            "tags": []
          },
          "execution_count": 2
        }
      ]
    },
    {
      "cell_type": "code",
      "metadata": {
        "colab": {
          "base_uri": "https://localhost:8080/"
        },
        "id": "c3aSC1HyOMzQ",
        "outputId": "8e53769d-03d9-47cd-ea92-e4054886f47d"
      },
      "source": [
        "# create the text as nlp object\n",
        "my_text=nlp(u\"\"\" My name is Khulood Nasher.I'm living in Los Angeles, California.I'm working at Amazon since November 9th,2020. Amazon office is 5 miles from house.\n",
        " I'm working 8 hours a day, 40 hours a week in 5 days, Monday-Friday.\n",
        "I finished master degree in Physics from Idaho State University(ISU),Pocatello, Idaho.\n",
        "My annual salary is $78,230. I also finished Data Sciences at Flatiron School.\n",
        "I'm an Arabic native speaker and an English professional.I have 6 siblings. I'm the second between them.  \"\"\")\n",
        "\n",
        "# extract name entity\n",
        "for enti in my_text.ents:\n",
        "  print(enti.text,enti.label_)"
      ],
      "execution_count": null,
      "outputs": [
        {
          "output_type": "stream",
          "text": [
            "Khulood Nasher PERSON\n",
            "Los Angeles GPE\n",
            "California GPE\n",
            "Amazon ORG\n",
            "NLP ORG\n",
            "November 9th,2020 DATE\n",
            "Amazon ORG\n",
            "5 miles QUANTITY\n",
            "8 hours TIME\n",
            "40 hours TIME\n",
            "5 days DATE\n",
            "Monday-Friday DATE\n",
            "Physics GPE\n",
            "Idaho State University(ISU),Pocatello ORG\n",
            "Idaho GPE\n",
            "annual DATE\n",
            "78,230 MONEY\n",
            "Data Sciences ORG\n",
            "Flatiron School ORG\n",
            "Arabic NORP\n",
            "English LANGUAGE\n",
            "6 CARDINAL\n",
            "second ORDINAL\n"
          ],
          "name": "stdout"
        }
      ]
    },
    {
      "cell_type": "code",
      "metadata": {
        "colab": {
          "base_uri": "https://localhost:8080/"
        },
        "id": "-gK4xojzCFaI",
        "outputId": "8b9cd351-1474-4b04-9de8-47e369fcd309"
      },
      "source": [
        "\n",
        "# collect the tokens\n",
        "my_text=nlp(u\"\"\" My name is Khulood Nasher.I'm living in Los Angeles, California.I'm working at Amazon as NLP \n",
        "specialist since November 9th,2020. Amazon office is 5 miles from house.\n",
        " I'm working 8 hours a day, 40 hours a week in 5 days, Monday-Friday.\n",
        "I finished master degree in Physics from Idaho State University(ISU),Pocatello, Idaho.\n",
        "My annual salary is $78,230. I also finished Data Sciences at Flatiron School.\n",
        "I'm an Arabic native speaker and an English professional.I have 6 siblings. I'm the second between them.  \"\"\")\n",
        "\n",
        "for token in my_text:\n",
        "    print(token.text, end=' || ')\n"
      ],
      "execution_count": null,
      "outputs": [
        {
          "output_type": "stream",
          "text": [
            "  || My || name || is || Khulood || Nasher || . || I'm || living || in || Los || Angeles || , || California || . || I'm || working || at || Amazon || as || NLP || \n",
            " || specialist || since || November || 9th,2020 || . || Amazon || office || is || 5 || miles || from || house || . || \n",
            "  || I || 'm || working || 8 || hours || a || day || , || 40 || hours || a || week || in || 5 || days || , || Monday || - || Friday || . || \n",
            " || I || finished || master || degree || in || Physics || from || Idaho || State || University(ISU),Pocatello || , || Idaho || . || \n",
            " || My || annual || salary || is || $ || 78,230 || . || I || also || finished || Data || Sciences || at || Flatiron || School || . || \n",
            " || I || 'm || an || Arabic || native || speaker || and || an || English || professional || . || I || have || 6 || siblings || . || I || 'm || the || second || between || them || . ||   || "
          ],
          "name": "stdout"
        }
      ]
    },
    {
      "cell_type": "code",
      "metadata": {
        "colab": {
          "base_uri": "https://localhost:8080/"
        },
        "id": "nxCs8Elr3YBj",
        "outputId": "a71988aa-1ed0-447e-bd5a-92a0becd3766"
      },
      "source": [
        "my_text=nlp(u\"\"\"Arabic My name is Khulood Nasher.I'm living in Los Angeles, California.\n",
        "I'm working at Amazon since November 9th,2020.\n",
        " Amazon office is 5 miles from house.\n",
        " I'm working 8 hours a day, 40 hours a week in 5 days, Monday-Friday.\n",
        "I finished master degree from Idaho State University(ISU),Pocatello, Idaho.My annual salary is $78,230. \n",
        "I'm an Arabic native speaker and an English professional.I have 6 siblings. I'm the second between them.  \"\"\")\n",
        "for ent in my_text.ents:\n",
        "    print(ent.text)\n",
        "    print(ent.label)\n",
        "    print(ent.label_)\n",
        "    print(str(spacy.explain(ent.label_)))\n",
        "    print(ent.start)\n",
        "    print(ent.end)\n",
        "    print(ent.start_char)\n",
        "    print(ent.end_char)\n",
        "    print('----------------------------------------------')"
      ],
      "execution_count": 90,
      "outputs": [
        {
          "output_type": "stream",
          "text": [
            "Arabic\n",
            "381\n",
            "NORP\n",
            "Nationalities or religious or political groups\n",
            "0\n",
            "1\n",
            "0\n",
            "6\n",
            "----------------------------------------------\n",
            "Khulood Nasher\n",
            "380\n",
            "PERSON\n",
            "People, including fictional\n",
            "4\n",
            "6\n",
            "18\n",
            "32\n",
            "----------------------------------------------\n",
            "Los Angeles\n",
            "384\n",
            "GPE\n",
            "Countries, cities, states\n",
            "10\n",
            "12\n",
            "47\n",
            "58\n",
            "----------------------------------------------\n",
            "California\n",
            "384\n",
            "GPE\n",
            "Countries, cities, states\n",
            "13\n",
            "14\n",
            "60\n",
            "70\n",
            "----------------------------------------------\n",
            "Amazon\n",
            "383\n",
            "ORG\n",
            "Companies, agencies, institutions, etc.\n",
            "20\n",
            "21\n",
            "87\n",
            "93\n",
            "----------------------------------------------\n",
            "November 9th,2020\n",
            "391\n",
            "DATE\n",
            "Absolute or relative dates or periods\n",
            "22\n",
            "24\n",
            "100\n",
            "117\n",
            "----------------------------------------------\n",
            "Amazon\n",
            "383\n",
            "ORG\n",
            "Companies, agencies, institutions, etc.\n",
            "26\n",
            "27\n",
            "120\n",
            "126\n",
            "----------------------------------------------\n",
            "5 miles\n",
            "395\n",
            "QUANTITY\n",
            "Measurements, as of weight or distance\n",
            "29\n",
            "31\n",
            "137\n",
            "144\n",
            "----------------------------------------------\n",
            "8 hours\n",
            "392\n",
            "TIME\n",
            "Times smaller than a day\n",
            "38\n",
            "40\n",
            "170\n",
            "177\n",
            "----------------------------------------------\n",
            "40 hours\n",
            "392\n",
            "TIME\n",
            "Times smaller than a day\n",
            "43\n",
            "45\n",
            "185\n",
            "193\n",
            "----------------------------------------------\n",
            "5 days\n",
            "391\n",
            "DATE\n",
            "Absolute or relative dates or periods\n",
            "48\n",
            "50\n",
            "204\n",
            "210\n",
            "----------------------------------------------\n",
            "Monday-Friday\n",
            "391\n",
            "DATE\n",
            "Absolute or relative dates or periods\n",
            "51\n",
            "54\n",
            "212\n",
            "225\n",
            "----------------------------------------------\n",
            "Idaho State University(ISU),Pocatello\n",
            "383\n",
            "ORG\n",
            "Companies, agencies, institutions, etc.\n",
            "61\n",
            "64\n",
            "257\n",
            "294\n",
            "----------------------------------------------\n",
            "Idaho\n",
            "384\n",
            "GPE\n",
            "Countries, cities, states\n",
            "65\n",
            "66\n",
            "296\n",
            "301\n",
            "----------------------------------------------\n",
            "annual\n",
            "391\n",
            "DATE\n",
            "Absolute or relative dates or periods\n",
            "68\n",
            "69\n",
            "305\n",
            "311\n",
            "----------------------------------------------\n",
            "78,230\n",
            "394\n",
            "MONEY\n",
            "Monetary values, including unit\n",
            "72\n",
            "73\n",
            "323\n",
            "329\n",
            "----------------------------------------------\n",
            "Arabic\n",
            "381\n",
            "NORP\n",
            "Nationalities or religious or political groups\n",
            "78\n",
            "79\n",
            "339\n",
            "345\n",
            "----------------------------------------------\n",
            "English\n",
            "389\n",
            "LANGUAGE\n",
            "Any named language\n",
            "83\n",
            "84\n",
            "368\n",
            "375\n",
            "----------------------------------------------\n",
            "6\n",
            "397\n",
            "CARDINAL\n",
            "Numerals that do not fall under another type\n",
            "88\n",
            "89\n",
            "396\n",
            "397\n",
            "----------------------------------------------\n",
            "second\n",
            "396\n",
            "ORDINAL\n",
            "\"first\", \"second\", etc.\n",
            "94\n",
            "95\n",
            "416\n",
            "422\n",
            "----------------------------------------------\n"
          ],
          "name": "stdout"
        }
      ]
    },
    {
      "cell_type": "code",
      "metadata": {
        "id": "gSTjNlPRBLIh",
        "colab": {
          "base_uri": "https://localhost:8080/"
        },
        "outputId": "ffc55064-5968-4006-ec05-ac03add28024"
      },
      "source": [
        "my_text=nlp(u\"\"\" My name is Khulood Nasher.I'm living in Los Angeles, California.\n",
        "I'm working at Amazon since November 9th,2020.\n",
        " Amazon office is 5 miles from house.\n",
        " I'm working 8 hours a day, 40 hours a week in 5 days, Monday-Friday.\n",
        "I finished master degree from Idaho State University(ISU),Pocatello, Idaho.My annual salary is $78,230. \n",
        "I'm an Arabic native speaker and an English professional.I have 6 siblings. I'm the second between them.  \"\"\")\n",
        "for entit in my_text.ents:\n",
        "    print(entit.text , ' : ' ,  entit.label_ , ' : ' , str(spacy.explain(entit.label_)))"
      ],
      "execution_count": 75,
      "outputs": [
        {
          "output_type": "stream",
          "text": [
            "Khulood Nasher  :  PERSON  :  People, including fictional\n",
            "Los Angeles  :  GPE  :  Countries, cities, states\n",
            "California  :  GPE  :  Countries, cities, states\n",
            "Amazon  :  ORG  :  Companies, agencies, institutions, etc.\n",
            "November 9th,2020  :  DATE  :  Absolute or relative dates or periods\n",
            "Amazon  :  ORG  :  Companies, agencies, institutions, etc.\n",
            "5 miles  :  QUANTITY  :  Measurements, as of weight or distance\n",
            "8 hours  :  TIME  :  Times smaller than a day\n",
            "40 hours  :  TIME  :  Times smaller than a day\n",
            "5 days  :  DATE  :  Absolute or relative dates or periods\n",
            "Monday-Friday  :  DATE  :  Absolute or relative dates or periods\n",
            "Idaho State University(ISU),Pocatello  :  ORG  :  Companies, agencies, institutions, etc.\n",
            "Idaho  :  GPE  :  Countries, cities, states\n",
            "annual  :  DATE  :  Absolute or relative dates or periods\n",
            "78,230  :  MONEY  :  Monetary values, including unit\n",
            "Arabic  :  NORP  :  Nationalities or religious or political groups\n",
            "English  :  LANGUAGE  :  Any named language\n",
            "6  :  CARDINAL  :  Numerals that do not fall under another type\n",
            "second  :  ORDINAL  :  \"first\", \"second\", etc.\n"
          ],
          "name": "stdout"
        }
      ]
    },
    {
      "cell_type": "code",
      "metadata": {
        "id": "XGegwK37Ft-E"
      },
      "source": [
        "# extracting named entity through a function\n",
        "def display_entit(corpus):\n",
        "    if corpus.ents:\n",
        "        for ent in corpus.ents:\n",
        "            print(ent.text+' - '+ent.label_+' - '+str(spacy.explain(ent.label_)))\n",
        "            print('-----------------------------')\n",
        "    else:\n",
        "        print('No named entities found.')        "
      ],
      "execution_count": 83,
      "outputs": []
    },
    {
      "cell_type": "code",
      "metadata": {
        "colab": {
          "base_uri": "https://localhost:8080/"
        },
        "id": "501tmqR3GoaC",
        "outputId": "6d3b1279-0e33-4e89-d87a-f3123ff67067"
      },
      "source": [
        "display_entit(nlp(\"May I book Harry Poter in May?\"))"
      ],
      "execution_count": 84,
      "outputs": [
        {
          "output_type": "stream",
          "text": [
            "Harry Poter - PERSON - People, including fictional\n",
            "-----------------------------\n",
            "May - DATE - Absolute or relative dates or periods\n",
            "-----------------------------\n"
          ],
          "name": "stdout"
        }
      ]
    },
    {
      "cell_type": "markdown",
      "metadata": {
        "id": "dw2f-FasKjnP"
      },
      "source": [
        "# Adding Named Entities"
      ]
    },
    {
      "cell_type": "code",
      "metadata": {
        "id": "BcVPXSoTGzr4"
      },
      "source": [
        "from spacy.tokens import Span\n",
        "my_text=nlp(u\"\"\"Arabic My name is Khulood Nasher.I'm living in Los Angeles, California.\n",
        "I'm working at Amazon since November 9th,2020.\n",
        " Amazon office is 5 miles from house.\n",
        " I'm working 8 hours a day, 40 hours a week in 5 days, Monday-Friday.\n",
        "I finished master degree from Idaho State University(ISU),Pocatello, Idaho.My annual salary is $78,230. \n",
        "I'm an  native speaker and an English professional.I have 6 siblings. I'm the second between them.  \"\"\")\n",
        "for ent in my_text.ents:\n",
        "  LANGUAGE = my_text.vocab.strings[u'LANGUAGE']  \n",
        "new_ent = Span(my_text, 0, 1, label=LANGUAGE)"
      ],
      "execution_count": 92,
      "outputs": []
    },
    {
      "cell_type": "code",
      "metadata": {
        "colab": {
          "base_uri": "https://localhost:8080/"
        },
        "id": "53SAewg8Lje7",
        "outputId": "32ba48b5-10db-4acf-c8c4-9b406df316b6"
      },
      "source": [
        "my_text=nlp(u\"\"\" My name is Khulood Nasher.I'm living in Los Angeles, California.\n",
        "I'm working at Amazon since November 9th,2020.\n",
        " Amazon office is 5 miles from house.\n",
        " I'm working 8 hours a day, 40 hours a week in 5 days, Monday-Friday.\n",
        "I finished master degree from Idaho State University(ISU),Pocatello, Idaho.My annual salary is $78,230. \n",
        "I'm  native speaker and an English professional.I have 6 siblings. I'm the second between them.  \"\"\")\n",
        "\n",
        "my_text.ents = list(my_text.ents) + [new_ent]\n",
        "display_entit(my_text)"
      ],
      "execution_count": 94,
      "outputs": [
        {
          "output_type": "stream",
          "text": [
            "  - LANGUAGE - Any named language\n",
            "-----------------------------\n",
            "Khulood Nasher - PERSON - People, including fictional\n",
            "-----------------------------\n",
            "Los Angeles - GPE - Countries, cities, states\n",
            "-----------------------------\n",
            "California - GPE - Countries, cities, states\n",
            "-----------------------------\n",
            "Amazon - ORG - Companies, agencies, institutions, etc.\n",
            "-----------------------------\n",
            "November 9th,2020 - DATE - Absolute or relative dates or periods\n",
            "-----------------------------\n",
            "Amazon - ORG - Companies, agencies, institutions, etc.\n",
            "-----------------------------\n",
            "5 miles - QUANTITY - Measurements, as of weight or distance\n",
            "-----------------------------\n",
            "8 hours - TIME - Times smaller than a day\n",
            "-----------------------------\n",
            "40 hours - TIME - Times smaller than a day\n",
            "-----------------------------\n",
            "5 days - DATE - Absolute or relative dates or periods\n",
            "-----------------------------\n",
            "Monday-Friday - DATE - Absolute or relative dates or periods\n",
            "-----------------------------\n",
            "Idaho State University(ISU),Pocatello - ORG - Companies, agencies, institutions, etc.\n",
            "-----------------------------\n",
            "Idaho - GPE - Countries, cities, states\n",
            "-----------------------------\n",
            "annual - DATE - Absolute or relative dates or periods\n",
            "-----------------------------\n",
            "78,230 - MONEY - Monetary values, including unit\n",
            "-----------------------------\n",
            "English - NORP - Nationalities or religious or political groups\n",
            "-----------------------------\n",
            "6 - CARDINAL - Numerals that do not fall under another type\n",
            "-----------------------------\n",
            "second - ORDINAL - \"first\", \"second\", etc.\n",
            "-----------------------------\n"
          ],
          "name": "stdout"
        }
      ]
    },
    {
      "cell_type": "code",
      "metadata": {
        "id": "O14z-F9BMVab"
      },
      "source": [
        ""
      ],
      "execution_count": null,
      "outputs": []
    }
  ]
}